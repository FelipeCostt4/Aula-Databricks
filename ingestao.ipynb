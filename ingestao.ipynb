{
 "cells": [
  {
   "cell_type": "code",
   "execution_count": 0,
   "metadata": {
    "application/vnd.databricks.v1+cell": {
     "cellMetadata": {
      "byteLimit": 2048000,
      "rowLimit": 10000
     },
     "inputWidgets": {},
     "nuid": "a92773f0-1e42-4c1a-96a7-a3a86bf10067",
     "showTitle": false,
     "tableResultSettingsMap": {},
     "title": ""
    }
   },
   "outputs": [],
   "source": [
    "import requests\n",
    "import json\n",
    "\n",
    "url = \"https://pokeapi.co/api/v2/pokemon?limit=2000\"\n",
    "\n",
    "response = requests.get(url)\n",
    "data = response.json()\n",
    "data\n",
    "\n",
    "data_save = data[\"results\"]\n",
    "\n",
    "path = f\"/Volumes/raw/pokemon/pokemon_raw/pokemons_list\"\n",
    "\n",
    "with open(path, \"w\") as open_file:\n",
    "    json.dump(data_save, open_file)"
   ]
  }
 ],
 "metadata": {
  "application/vnd.databricks.v1+notebook": {
   "computePreferences": null,
   "dashboards": [],
   "environmentMetadata": {
    "base_environment": "",
    "environment_version": "2"
   },
   "inputWidgetPreferences": null,
   "language": "python",
   "notebookMetadata": {
    "pythonIndentUnit": 4
   },
   "notebookName": "ingestao",
   "widgets": {}
  },
  "language_info": {
   "name": "python"
  }
 },
 "nbformat": 4,
 "nbformat_minor": 0
}
